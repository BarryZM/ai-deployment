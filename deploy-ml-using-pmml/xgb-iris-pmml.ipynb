{
 "cells": [
  {
   "cell_type": "code",
   "execution_count": null,
   "metadata": {},
   "outputs": [],
   "source": [
    "from sklearn import datasets\n",
    "from sklearn.model_selection import train_test_split\n",
    "from sklearn.pipeline import Pipeline\n",
    "from sklearn.preprocessing import StandardScaler\n",
    "import pandas as pd\n",
    "from xgboost import XGBClassifier\n",
    "\n",
    "seed = 123456\n",
    "\n",
    "iris = datasets.load_iris()\n",
    "target = 'Species'\n",
    "features = iris.feature_names\n",
    "iris_df = pd.DataFrame(iris.data, columns=features)\n",
    "iris_df[target] = iris.target\n",
    "\n",
    "X, y = iris_df[features], iris_df[target]\n",
    "X_train, X_test, y_train, y_test = train_test_split(X, y, test_size=0.33, random_state=seed)\n",
    "\n",
    "pipeline = Pipeline([\n",
    "    ('scaling', StandardScaler()), \n",
    "    ('xgb', XGBClassifier(n_estimators=5, seed=seed))\n",
    "])\n",
    "\n",
    "pipeline.fit(X_train, y_train)\n",
    "y_pred = pipeline.predict(X_test)\n",
    "y_pred_proba = pipeline.predict_proba(X_test)\n",
    "print(y_pred)\n",
    "print(y_pred_proba)\n"
   ]
  },
  {
   "cell_type": "code",
   "execution_count": null,
   "metadata": {},
   "outputs": [],
   "source": [
    "from nyoka import xgboost_to_pmml\n",
    "xgboost_to_pmml(pipeline, features, target, \"xgb-iris.pmml\")\n"
   ]
  },
  {
   "cell_type": "code",
   "execution_count": null,
   "metadata": {},
   "outputs": [],
   "source": [
    "from pypmml import Model\n",
    "model = Model.fromFile(\"xgb-iris.pmml\")\n",
    "model.predict(X_test)\n"
   ]
  },
  {
   "cell_type": "code",
   "execution_count": null,
   "metadata": {},
   "outputs": [],
   "source": []
  }
 ],
 "metadata": {
  "kernelspec": {
   "display_name": "Python 3",
   "language": "python",
   "name": "python3"
  },
  "language_info": {
   "codemirror_mode": {
    "name": "ipython",
    "version": 3
   },
   "file_extension": ".py",
   "mimetype": "text/x-python",
   "name": "python",
   "nbconvert_exporter": "python",
   "pygments_lexer": "ipython3",
   "version": "3.7.0"
  }
 },
 "nbformat": 4,
 "nbformat_minor": 2
}
